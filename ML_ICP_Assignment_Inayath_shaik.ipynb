{
 "cells": [
  {
   "cell_type": "markdown",
   "id": "96da1acd",
   "metadata": {},
   "source": [
    "<h2><center>CS5710 – Machine Learning</center></h2>\n",
    "<h2><center>In-Class Programming Assignment (CRN:30521)</center></h2>\n",
    "<h3><center>Inayath Shaik: #700748048</center></h3>"
   ]
  },
  {
   "cell_type": "markdown",
   "id": "9a089dc3",
   "metadata": {},
   "source": [
    "<div class=\"alert alert-block alert-success\">\n",
    "    <b> Name:  </b> Inayath shaik </br>\n",
    "    <b> 700#: </b> 700748048\n",
    "</div>"
   ]
  },
  {
   "cell_type": "markdown",
   "id": "a23b6f19",
   "metadata": {},
   "source": [
    "# 1. Numpy"
   ]
  },
  {
   "cell_type": "code",
   "execution_count": 2,
   "id": "48486e69",
   "metadata": {
    "scrolled": true
   },
   "outputs": [],
   "source": [
    "import numpy as np\n",
    "import random"
   ]
  },
  {
   "cell_type": "markdown",
   "id": "b5b38d04",
   "metadata": {},
   "source": [
    "<div class=\"alert alert-block alert-info\">\n",
    "    <b> a. </b> Using NumPy create random vector of size 15 having only Integers in the range 1-20.\n",
    "</div>"
   ]
  },
  {
   "cell_type": "code",
   "execution_count": 3,
   "id": "16f4fdb2",
   "metadata": {},
   "outputs": [
    {
     "name": "stdout",
     "output_type": "stream",
     "text": [
      "[16 14  4  7 13 12 14 10 12 18 13  8  3 17  8]\n"
     ]
    }
   ],
   "source": [
    "rand_vector = np.random.randint(low=1, high=21, size=15)\n",
    "print(rand_vector)"
   ]
  },
  {
   "cell_type": "markdown",
   "id": "99e8d085",
   "metadata": {},
   "source": [
    "#### Question 1\n",
    "Reshape the array to 3 by 5"
   ]
  },
  {
   "cell_type": "code",
   "execution_count": 10,
   "id": "9817cb48",
   "metadata": {},
   "outputs": [
    {
     "data": {
      "text/plain": [
       "array([[10, 12, 15,  4,  1],\n",
       "       [ 1, 19,  2,  3,  1],\n",
       "       [19, 18,  8, 16, 12]])"
      ]
     },
     "execution_count": 10,
     "metadata": {},
     "output_type": "execute_result"
    }
   ],
   "source": [
    "# Reshaping the array to 3x5\n",
    "arr = rand_vector.reshape(3, 5)\n",
    "arr"
   ]
  },
  {
   "cell_type": "markdown",
   "id": "85304241",
   "metadata": {},
   "source": [
    "#### Question 2\n",
    "Print array shape"
   ]
  },
  {
   "cell_type": "code",
   "execution_count": 11,
   "id": "a6ea7a33",
   "metadata": {},
   "outputs": [
    {
     "name": "stdout",
     "output_type": "stream",
     "text": [
      "The shape of the array is: (3, 5)\n"
     ]
    }
   ],
   "source": [
    "print(\"The shape of the array is:\", arr.shape)"
   ]
  },
  {
   "cell_type": "markdown",
   "id": "4e3f5f3f",
   "metadata": {},
   "source": [
    "#### Question 3\n",
    "Replace the max in each row by 0"
   ]
  },
  {
   "cell_type": "code",
   "execution_count": 5,
   "id": "4fcfc9ef",
   "metadata": {},
   "outputs": [
    {
     "name": "stdout",
     "output_type": "stream",
     "text": [
      "updated Array:\n",
      " [[18  9  0 17  9]\n",
      " [ 4  9  0  8 15]\n",
      " [ 0  3  2  1  9]]\n"
     ]
    }
   ],
   "source": [
    "# Finding the maximum elements index in each row\n",
    "max_indexes = np.argmax(arr, axis=1)\n",
    "i = 0\n",
    "\n",
    "# Iterating over the max_indexes\n",
    "for j in max_indexes:\n",
    "    arr[i][j] = 0\n",
    "    i += 1\n",
    "    \n",
    "print(\"updated Array:\\n\", arr)"
   ]
  },
  {
   "cell_type": "markdown",
   "id": "bc948450",
   "metadata": {},
   "source": [
    "<div class=\"alert alert-block alert-info\">\n",
    "    Create a 2-dimensional array of size 4 x 3 (composed of 4-byte integer elements), also print the shape, type and data type of the array.\n",
    "</div>"
   ]
  },
  {
   "cell_type": "code",
   "execution_count": 13,
   "id": "8ed7d7d9",
   "metadata": {
    "scrolled": true
   },
   "outputs": [
    {
     "name": "stdout",
     "output_type": "stream",
     "text": [
      "Shape: (4, 3)\n",
      "Type: <class 'numpy.ndarray'>\n",
      "Data type: int32\n"
     ]
    }
   ],
   "source": [
    "# Creating a 2-d array of size 4x3\n",
    "array2 = np.array(np.random.randint(1, 21, size=(4, 3)), np.int32)\n",
    "\n",
    "# printing array shape\n",
    "print(\"Shape:\", array2.shape)\n",
    "\n",
    "# printing array type\n",
    "print(\"Type:\", type(array2))\n",
    "\n",
    "#printing array data type\n",
    "print(\"Data type:\", array2.dtype)"
   ]
  },
  {
   "cell_type": "markdown",
   "id": "546b1c91",
   "metadata": {},
   "source": [
    "<div class=\"alert alert-block alert-info\">\n",
    "    <b> b. </b> Write a program to compute the eigenvalues and right eigenvectors of a given square array given below:\n",
    "</div>\n",
    "\n",
    "`[[ 3 -2]` </br>\n",
    "` [ 1 0]]`"
   ]
  },
  {
   "cell_type": "code",
   "execution_count": 17,
   "id": "28241434",
   "metadata": {
    "scrolled": true
   },
   "outputs": [
    {
     "name": "stdout",
     "output_type": "stream",
     "text": [
      "Eigenvalues: \n",
      " [2. 1.]\n",
      "\n",
      "Right Eigenvectors: \n",
      " [[0.89442719 0.70710678]\n",
      " [0.4472136  0.70710678]]\n"
     ]
    }
   ],
   "source": [
    "# Defining the given array\n",
    "array3 = np.array([[3, -2], [1, 0]])\n",
    "\n",
    "# computing the eigenvalues and right eigenvectors\n",
    "eigenvalues, eigenvectors = np.linalg.eig(array3)\n",
    "\n",
    "# printing eigenvalues\n",
    "print(\"Eigenvalues: \\n\", eigenvalues)\n",
    "\n",
    "# printing right eigenvectors\n",
    "print(\"\\nRight Eigenvectors: \\n\", eigenvectors)"
   ]
  },
  {
   "cell_type": "markdown",
   "id": "48dc8c86",
   "metadata": {},
   "source": [
    "<div class=\"alert alert-block alert-info\">\n",
    "    <b> c. </b> Compute the sum of the diagonal element of a given array.\n",
    "</div>\n",
    "\n",
    "`[[0 1 2]` </br>\n",
    "` [3 4 5]]`"
   ]
  },
  {
   "cell_type": "code",
   "execution_count": 18,
   "id": "19d339d3",
   "metadata": {},
   "outputs": [
    {
     "data": {
      "text/plain": [
       "4"
      ]
     },
     "execution_count": 18,
     "metadata": {},
     "output_type": "execute_result"
    }
   ],
   "source": [
    "# Defining the given array\n",
    "array4 = np.array([[0, 1, 2], [3, 4, 5]])\n",
    "\n",
    "# computing the sum of the diagonal elements\n",
    "sum_diagonal = np.trace(array4)\n",
    "\n",
    "# Printing the sum of the diagonal elements\n",
    "sum_diagonal"
   ]
  },
  {
   "cell_type": "markdown",
   "id": "141f4fb1",
   "metadata": {},
   "source": [
    "<div class=\"alert alert-block alert-info\">\n",
    "    <b> d. </b> Write a NumPy program to create a new shape to an array without changing its data.\n",
    "</div>\n",
    "\n",
    "##### Reshape 3x2:\n",
    "`[[1 2]` </br>\n",
    "` [3 4]` </br>\n",
    "` [5 6]]`"
   ]
  },
  {
   "cell_type": "code",
   "execution_count": 20,
   "id": "332315a9",
   "metadata": {},
   "outputs": [
    {
     "data": {
      "text/plain": [
       "array([[1, 2, 3],\n",
       "       [4, 5, 6]])"
      ]
     },
     "execution_count": 20,
     "metadata": {},
     "output_type": "execute_result"
    }
   ],
   "source": [
    "#Defining the given array\n",
    "array5 = np.array([[1, 2], [3, 4], [5, 6]])\n",
    "\n",
    "# Reshaping the array to 2x3\n",
    "new_arr1 = array5.reshape(2,3)\n",
    "\n",
    "# printing the new array\n",
    "new_arr1"
   ]
  },
  {
   "cell_type": "markdown",
   "id": "8da24609",
   "metadata": {},
   "source": [
    "##### Reshape 2x3:\n",
    "`[[1 2 3]` </br>\n",
    "` [4 5 6]]`"
   ]
  },
  {
   "cell_type": "code",
   "execution_count": 22,
   "id": "6071a613",
   "metadata": {},
   "outputs": [
    {
     "data": {
      "text/plain": [
       "array([[1, 2],\n",
       "       [3, 4],\n",
       "       [5, 6]])"
      ]
     },
     "execution_count": 22,
     "metadata": {},
     "output_type": "execute_result"
    }
   ],
   "source": [
    "#Defining the given array\n",
    "array6 = np.array([[1, 2, 3], [4, 5, 6]])\n",
    "\n",
    "# Reshaping the array to 3x2\n",
    "new_arr2 = array6.reshape(3,2)\n",
    "\n",
    "# printing the new array\n",
    "new_arr2"
   ]
  },
  {
   "cell_type": "markdown",
   "id": "53f6d11c",
   "metadata": {},
   "source": [
    "# 2. Matplotlib "
   ]
  },
  {
   "cell_type": "markdown",
   "id": "dc7019f2",
   "metadata": {},
   "source": [
    "<div class=\"alert alert-block alert-info\">\n",
    "    Write a Python programming to create a below chart of the popularity of programming Languages.\n",
    "</div>\n",
    "\n",
    "### Sample data: \n",
    "<b> _Programming languages:_ </b> Java, Python, PHP, JavaScript, C#, C++ </br>\n",
    "<b> _Popularity:_ </b> 22.2, 17.6, 8.8, 8, 7.7, 6.7"
   ]
  },
  {
   "cell_type": "code",
   "execution_count": 24,
   "id": "234200d7",
   "metadata": {},
   "outputs": [
    {
     "data": {
      "image/png": "[encoded data removed]",
      "text/plain": [
       "<Figure size 640x480 with 1 Axes>"
      ]
     },
     "metadata": {},
     "output_type": "display_data"
    }
   ],
   "source": [
    "import matplotlib.pyplot as plt\n",
    "\n",
    "# Sample data to plot\n",
    "languages = ['Java', 'Python', 'PHP', 'JavaScript', 'C#', 'C++']\n",
    "popularity = [22.2, 17.6, 8.8, 8, 7.7, 6.7]\n",
    "\n",
    "# Exploding the first slice\n",
    "y = [0.1, 0, 0, 0, 0, 0]\n",
    "\n",
    "# Creating a pie chart\n",
    "plt.pie(popularity, explode=y, labels=languages, startangle=135, shadow=True,  \n",
    "        wedgeprops = {\"edgecolor\" : \"black\",'linewidth': 1.25},\n",
    "        autopct='%1.1f%%')\n",
    "\n",
    "# Setting the title for the pie chart\n",
    "plt.title('Popularity of Programming Languages \\n')\n",
    "\n",
    "# axis() function is used to adjust the axis and making the chart circular using the arugument equal\n",
    "plt.axis('equal')\n",
    "\n",
    "# Displaying the chart\n",
    "plt.show()"
   ]
  },
  {
   "cell_type": "markdown",
   "id": "53bc9edb",
   "metadata": {},
   "source": [
    "<h2><center> <i>- - - End - - -</i></center></h2>"
   ]
  }
 ],
 "metadata": {
  "kernelspec": {
   "display_name": "Python 3 (ipykernel)",
   "language": "python",
   "name": "python3"
  },
  "language_info": {
   "codemirror_mode": {
    "name": "ipython",
    "version": 3
   },
   "file_extension": ".py",
   "mimetype": "text/x-python",
   "name": "python",
   "nbconvert_exporter": "python",
   "pygments_lexer": "ipython3",
   "version": "3.10.9"
  }
 },
 "nbformat": 4,
 "nbformat_minor": 5
}
